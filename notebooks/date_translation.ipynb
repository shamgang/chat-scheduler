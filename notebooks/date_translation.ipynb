{
 "cells": [
  {
   "cell_type": "code",
   "execution_count": null,
   "id": "0dd912ff-b9a8-40b2-adde-60e220dd50e5",
   "metadata": {},
   "outputs": [],
   "source": [
    "import json\n",
    "import os\n",
    "\n",
    "def load_and_set_env_variables(file_path='local.settings.json'):\n",
    "    # Load the JSON file\n",
    "    with open(file_path, 'r') as file:\n",
    "        data = json.load(file)\n",
    "    \n",
    "    # Read the \"Values\" key\n",
    "    values = data.get('Values', {})\n",
    "    \n",
    "    # Set each key-value pair as environment variables\n",
    "    for key, value in values.items():\n",
    "        os.environ[key] = str(value)\n",
    "        print(f'Set environment variable {key}={value}')\n",
    "\n",
    "load_and_set_env_variables()"
   ]
  },
  {
   "cell_type": "code",
   "execution_count": null,
   "id": "e5a1030d-dec7-4a1d-8c96-81af5d27bdfa",
   "metadata": {},
   "outputs": [],
   "source": [
    "%load_ext autoreload\n",
    "%autoreload 3"
   ]
  },
  {
   "cell_type": "code",
   "execution_count": null,
   "id": "24d44a13-9094-43d0-b7a7-67d3a2d43a68",
   "metadata": {},
   "outputs": [],
   "source": [
    "import logging\n",
    "from langchain_openai import ChatOpenAI\n",
    "from lib.config import config\n",
    "from lib.logger import logger\n",
    "import importlib\n",
    "from lib.date_translation import DateTranslator\n",
    "\n",
    "model = ChatOpenAI(model=\"gpt-3.5-turbo\", temperature=0)\n",
    "#model = ChatOpenAI(model=\"gpt-4o\", temperature=0)\n",
    "\n",
    "date_translator = DateTranslator(model)\n",
    "\n",
    "test_prompts = [\n",
    "    'Next week wednesday to friday',\n",
    "    'All of February',\n",
    "    'The second half of March',\n",
    "    'April 1-15',\n",
    "    'The next two weeks',\n",
    "    'This week',\n",
    "    'The next week and a half',\n",
    "    'From tomorrow until next weekend',\n",
    "    'The second half of this month',\n",
    "    'The next 10 days',\n",
    "    'From tomorrow until next saturday',\n",
    "    'Saturday through monday',\n",
    "    'A week starting April 10', # BREAKS\n",
    "    'The week of April 18',\n",
    "    'The first saturday of June to the following weekend', # BREAKS\n",
    "    'Next weekend and tuesday through friday',\n",
    "    'April 1-5 and april 10-15',\n",
    "    'Hamburger'\n",
    "]\n",
    "\n",
    "config.VERBOSE = False\n",
    "logger.setLevel(logging.INFO)\n",
    "#config.VERBOSE = True\n",
    "#logger.setLevel(logging.DEBUG)\n",
    "\n",
    "for prompt in test_prompts[13:]:\n",
    "    print(prompt)\n",
    "    date_translator.translate_to_date_range(prompt)\n",
    "    #start_date, end_date = date_translator.translate_to_date_range(prompt)\n",
    "    #print(start_date, end_date)"
   ]
  },
  {
   "cell_type": "code",
   "execution_count": null,
   "id": "5d0e2f3f-6d8e-4006-b64b-93ba9fafd45a",
   "metadata": {},
   "outputs": [],
   "source": [
    "from lib.system_prompts import input_filter_system_prompt\n",
    "print(input_filter_system_prompt)"
   ]
  }
 ],
 "metadata": {
  "kernelspec": {
   "display_name": "Python 3 (ipykernel)",
   "language": "python",
   "name": "python3"
  },
  "language_info": {
   "codemirror_mode": {
    "name": "ipython",
    "version": 3
   },
   "file_extension": ".py",
   "mimetype": "text/x-python",
   "name": "python",
   "nbconvert_exporter": "python",
   "pygments_lexer": "ipython3",
   "version": "3.10.11"
  }
 },
 "nbformat": 4,
 "nbformat_minor": 5
}
